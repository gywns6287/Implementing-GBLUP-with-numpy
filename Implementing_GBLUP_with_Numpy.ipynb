{
 "cells": [
  {
   "cell_type": "code",
   "execution_count": 1,
   "metadata": {},
   "outputs": [],
   "source": [
    "import numpy as np\n",
    "\n",
    "raw = '1100_sample.txt'\n",
    "data = np.loadtxt(raw, dtype = np.str, skiprows = 1)"
   ]
  },
  {
   "cell_type": "code",
   "execution_count": 2,
   "metadata": {
    "scrolled": true
   },
   "outputs": [
    {
     "name": "stdout",
     "output_type": "stream",
     "text": [
      "[['G0' '11' '0' ... '2.72785' '0' '2']\n",
      " ['G0' '15' '0' ... '2.2779' '0' '1']\n",
      " ['G0' '17' '0' ... '1.05285' '0' '1']\n",
      " ...\n",
      " ['G1' '19961' '92' ... '-9' '0' '2']\n",
      " ['G1' '20067' '254' ... '-9' '0' '0']\n",
      " ['G1' '20069' '254' ... '-9' '0' '1']]\n",
      "\n",
      " ############################################################ \n",
      "\n",
      "#N of indiv: 1100\n",
      "#N of DNA markers: 49880\n",
      "\n"
     ]
    }
   ],
   "source": [
    "print(data[:,:8])\n",
    "\n",
    "print('\\n','#'*60,'\\n')\n",
    "\n",
    "n_indiv,n_dna = data[:,6:].shape\n",
    "\n",
    "print('#N of indiv: {0}\\n'\n",
    "      '#N of DNA markers: {1}\\n'\n",
    "      .format(n_indiv,n_dna))"
   ]
  },
  {
   "cell_type": "code",
   "execution_count": 3,
   "metadata": {},
   "outputs": [],
   "source": [
    "#Separates dna information from raw files. \n",
    "dna = data[:,6:].astype(np.float)\n",
    "\n",
    "#Calculate the deviation of trait(y)\n",
    "y = data[data[:,0] == 'G0',5].astype(np.float)\n",
    "y_c = np.asmatrix(y - np.mean(y)).T\n",
    "\n",
    "#Calculate marker effects by genotype frequency\n",
    "M = np.asmatrix(dna) - 1\n",
    "pi = np.mean(dna,axis = 0)/2\n",
    "P = 2*(pi-0.5)\n",
    "M = M - P\n",
    "\n",
    "#Calculate G by VanRaden method\n",
    "G = M*M.T/(2*np.sum(pi*(1-pi)))"
   ]
  },
  {
   "cell_type": "code",
   "execution_count": 4,
   "metadata": {},
   "outputs": [],
   "source": [
    "#Make design matrix\n",
    "Z = np.zeros((sum(data[:,0] == 'G0'),len(data)))\n",
    "\n",
    "for i in range(len(data)):\n",
    "    if data[i][0] == 'G0':\n",
    "        Z[i][i] = 1"
   ]
  },
  {
   "cell_type": "code",
   "execution_count": 7,
   "metadata": {},
   "outputs": [
    {
     "name": "stdout",
     "output_type": "stream",
     "text": [
      "[[-0.10661197]\n",
      " [-0.37285056]\n",
      " [-0.97929329]\n",
      " ...\n",
      " [-0.37161146]\n",
      " [-0.01737475]\n",
      " [ 0.04712397]]\n"
     ]
    }
   ],
   "source": [
    "Z = np.asmatrix(Z)\n",
    "G_inv = np.linalg.inv(G)\n",
    "\n",
    "#estimate gebv\n",
    "gebv = np.linalg.inv(Z.T * Z + G_inv) * Z.T * y_c\n",
    "print(gebv)"
   ]
  }
 ],
 "metadata": {
  "kernelspec": {
   "display_name": "Python 3",
   "language": "python",
   "name": "python3"
  },
  "language_info": {
   "codemirror_mode": {
    "name": "ipython",
    "version": 3
   },
   "file_extension": ".py",
   "mimetype": "text/x-python",
   "name": "python",
   "nbconvert_exporter": "python",
   "pygments_lexer": "ipython3",
   "version": "3.7.4"
  }
 },
 "nbformat": 4,
 "nbformat_minor": 4
}
